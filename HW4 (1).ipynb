{
  "nbformat": 4,
  "nbformat_minor": 0,
  "metadata": {
    "kernelspec": {
      "display_name": "Python 3",
      "language": "python",
      "name": "python3"
    },
    "language_info": {
      "codemirror_mode": {
        "name": "ipython",
        "version": 3
      },
      "file_extension": ".py",
      "mimetype": "text/x-python",
      "name": "python",
      "nbconvert_exporter": "python",
      "pygments_lexer": "ipython3",
      "version": "3.7.9"
    },
    "colab": {
      "name": "HW4.ipynb",
      "provenance": [],
      "collapsed_sections": [],
      "toc_visible": true
    }
  },
  "cells": [
    {
      "cell_type": "markdown",
      "metadata": {
        "id": "3YaAH5cMyp0I"
      },
      "source": [
        "# Homework 4"
      ]
    },
    {
      "cell_type": "code",
      "metadata": {
        "id": "cENL4dn2yp0K"
      },
      "source": [
        "# Import library\n",
        "\n",
        "import pandas as pd\n",
        "import numpy as np\n",
        "import matplotlib.pyplot as plt\n",
        "import math\n",
        "from sklearn.model_selection import train_test_split\n",
        "import keras\n",
        "from keras.models import Sequential\n",
        "from keras.layers import Dense\n",
        "from sklearn.metrics import accuracy_score"
      ],
      "execution_count": null,
      "outputs": []
    },
    {
      "cell_type": "markdown",
      "metadata": {
        "id": "jLf7IzqMyp0L"
      },
      "source": [
        "## 1. Shallow V.S Deep Neural Network"
      ]
    },
    {
      "cell_type": "markdown",
      "metadata": {
        "id": "pbjbxijwyp0O"
      },
      "source": [
        "### a. Generate the simulated data first using following equation. Sample 120k data as X from uniform distribution [-2*Pi, 2*Pi], then feed the sampled X into the equation to get Y. Randomly select 60K as training and 60 K as testing."
      ]
    },
    {
      "cell_type": "markdown",
      "metadata": {
        "id": "fvcB9Byiyp0P"
      },
      "source": [
        "Generate simulated data"
      ]
    },
    {
      "cell_type": "code",
      "metadata": {
        "id": "7QlzJYVayp0P"
      },
      "source": [
        "# Sample data\n",
        "X = np.random.uniform((-2)*math.pi, 2*math.pi, 120000)\n",
        "\n",
        "# Feed equation to get Y\n",
        "def feed_equation(values):\n",
        "    output = np.empty(len(values))\n",
        "    for i in range(len(values)):\n",
        "        output[i] = 2*((2*(math.cos(values[i])**2) - 1)**2) - 1\n",
        "    return output\n",
        "values = X\n",
        "Y = feed_equation(X)\n",
        "\n",
        "# Divide into train and test\n",
        "X_train, X_test, y_train, y_test = train_test_split(X, Y, test_size=0.5)"
      ],
      "execution_count": null,
      "outputs": []
    },
    {
      "cell_type": "code",
      "metadata": {
        "colab": {
          "base_uri": "https://localhost:8080/"
        },
        "id": "FXzKpIhK4Utv",
        "outputId": "6b37fd7b-824b-47bc-aacf-4979ad8d2f82"
      },
      "source": [
        "len(X_train)"
      ],
      "execution_count": null,
      "outputs": [
        {
          "output_type": "execute_result",
          "data": {
            "text/plain": [
              "60000"
            ]
          },
          "metadata": {
            "tags": []
          },
          "execution_count": 3
        }
      ]
    },
    {
      "cell_type": "code",
      "metadata": {
        "colab": {
          "base_uri": "https://localhost:8080/"
        },
        "id": "UososJi47Cp2",
        "outputId": "fa71a149-e676-48b6-bd10-149233d48c34"
      },
      "source": [
        "y_train"
      ],
      "execution_count": null,
      "outputs": [
        {
          "output_type": "execute_result",
          "data": {
            "text/plain": [
              "array([ 0.99999645,  0.90540041, -0.55940133, ..., -0.57036973,\n",
              "        0.68736152,  0.53511064])"
            ]
          },
          "metadata": {
            "tags": []
          },
          "execution_count": 4
        }
      ]
    },
    {
      "cell_type": "markdown",
      "metadata": {
        "id": "IQzm1Qtzyp0Q"
      },
      "source": [
        "### b. Train 3 versions of Neural Network, with different numbers of hidden layer (NN with 1 hidden layer, 2 hidden layers and 3 hidden layers), using Mean squared error as objective function and error measurement."
      ]
    },
    {
      "cell_type": "markdown",
      "metadata": {
        "id": "YJAhPlBamCR6"
      },
      "source": [
        ""
      ]
    },
    {
      "cell_type": "code",
      "metadata": {
        "id": "b1ZNvzDwyp0Q"
      },
      "source": [
        "# Neural network (1 hidden layer)\n",
        "model_1 = Sequential()\n",
        "model_1.add(Dense(10, input_dim = 1, kernel_initializer = \"normal\", activation = \"relu\"))\n",
        "model_1.add(Dense(1, kernel_initializer = \"normal\", activation = \"linear\"))\n",
        "\n",
        "# Specify loss function and optimizer\n",
        "model_1.compile(optimizer=\"Adam\", loss=\"mse\", metrics=[\"mse\"])\n"
      ],
      "execution_count": null,
      "outputs": []
    },
    {
      "cell_type": "code",
      "metadata": {
        "id": "tGKWXdsaiUlZ"
      },
      "source": [
        "# Neural network (2 hidden layers)\n",
        "model_2 = Sequential()\n",
        "model_2.add(Dense(10, input_dim = 1, kernel_initializer = \"normal\", activation = \"relu\"))\n",
        "model_2.add(Dense(8, activation=\"relu\"))\n",
        "model_2.add(Dense(1, kernel_initializer = \"normal\", activation = \"linear\"))\n",
        "\n",
        "# Specify loss function and optimizer\n",
        "model_2.compile(optimizer=\"Adam\", loss=\"mse\", metrics=[\"mse\"])"
      ],
      "execution_count": null,
      "outputs": []
    },
    {
      "cell_type": "code",
      "metadata": {
        "id": "1O75FIDCjReG"
      },
      "source": [
        "# Neural network (3 hidden layers)\n",
        "model_3 = Sequential()\n",
        "model_3.add(Dense(10, input_dim = 1, kernel_initializer = \"normal\", activation = \"relu\"))\n",
        "model_3.add(Dense(8, activation=\"relu\"))\n",
        "model_3.add(Dense(4, activation=\"relu\"))\n",
        "model_3.add(Dense(1, kernel_initializer = \"normal\", activation = \"linear\"))\n",
        "\n",
        "# Specify loss function and optimizer\n",
        "model_3.compile(optimizer=\"Adam\", loss=\"mse\", metrics=[\"mse\"])"
      ],
      "execution_count": null,
      "outputs": []
    },
    {
      "cell_type": "code",
      "metadata": {
        "id": "EAoYcdUHiU40"
      },
      "source": [
        ""
      ],
      "execution_count": null,
      "outputs": []
    },
    {
      "cell_type": "code",
      "metadata": {
        "colab": {
          "base_uri": "https://localhost:8080/"
        },
        "id": "Tv1FQHbXyp0R",
        "outputId": "11b52262-fa34-412d-ea92-01d4fd202da1"
      },
      "source": [
        "model_1"
      ],
      "execution_count": null,
      "outputs": [
        {
          "output_type": "execute_result",
          "data": {
            "text/plain": [
              "<tensorflow.python.keras.engine.sequential.Sequential at 0x7f07e028df50>"
            ]
          },
          "metadata": {
            "tags": []
          },
          "execution_count": 12
        }
      ]
    },
    {
      "cell_type": "code",
      "metadata": {
        "colab": {
          "base_uri": "https://localhost:8080/"
        },
        "id": "YrKCK0pFyp0R",
        "outputId": "a0fe9399-13d6-4d14-d4e2-4c5828e148c1"
      },
      "source": [
        "# Train model\n",
        "history_1 = model_1.fit(X_train, y_train, epochs=100, batch_size=64)\n",
        "history_2 = model_2.fit(X_train, y_train, epochs=100, batch_size=64)\n",
        "history_3 = model_3.fit(X_train, y_train, epochs=100, batch_size=64)"
      ],
      "execution_count": null,
      "outputs": [
        {
          "output_type": "stream",
          "text": [
            "Epoch 1/100\n",
            "938/938 [==============================] - 2s 1ms/step - loss: 0.5004 - mse: 0.5004\n",
            "Epoch 2/100\n",
            "938/938 [==============================] - 1s 1ms/step - loss: 0.4997 - mse: 0.4997\n",
            "Epoch 3/100\n",
            "938/938 [==============================] - 1s 1ms/step - loss: 0.4970 - mse: 0.4970\n",
            "Epoch 4/100\n",
            "938/938 [==============================] - 1s 1ms/step - loss: 0.4995 - mse: 0.4995\n",
            "Epoch 5/100\n",
            "938/938 [==============================] - 1s 1ms/step - loss: 0.5009 - mse: 0.5009\n",
            "Epoch 6/100\n",
            "938/938 [==============================] - 1s 1ms/step - loss: 0.4981 - mse: 0.4981\n",
            "Epoch 7/100\n",
            "938/938 [==============================] - 1s 1ms/step - loss: 0.4968 - mse: 0.4968\n",
            "Epoch 8/100\n",
            "938/938 [==============================] - 1s 1ms/step - loss: 0.4970 - mse: 0.4970\n",
            "Epoch 9/100\n",
            "938/938 [==============================] - 1s 1ms/step - loss: 0.4951 - mse: 0.4951\n",
            "Epoch 10/100\n",
            "938/938 [==============================] - 1s 1ms/step - loss: 0.4955 - mse: 0.4955\n",
            "Epoch 11/100\n",
            "938/938 [==============================] - 1s 1ms/step - loss: 0.4963 - mse: 0.4963\n",
            "Epoch 12/100\n",
            "938/938 [==============================] - 1s 1ms/step - loss: 0.4988 - mse: 0.4988\n",
            "Epoch 13/100\n",
            "938/938 [==============================] - 1s 1ms/step - loss: 0.4961 - mse: 0.4961\n",
            "Epoch 14/100\n",
            "938/938 [==============================] - 1s 1ms/step - loss: 0.4951 - mse: 0.4951\n",
            "Epoch 15/100\n",
            "938/938 [==============================] - 1s 1ms/step - loss: 0.4963 - mse: 0.4963\n",
            "Epoch 16/100\n",
            "938/938 [==============================] - 1s 1ms/step - loss: 0.4922 - mse: 0.4922\n",
            "Epoch 17/100\n",
            "938/938 [==============================] - 1s 1ms/step - loss: 0.4941 - mse: 0.4941\n",
            "Epoch 18/100\n",
            "938/938 [==============================] - 1s 1ms/step - loss: 0.4916 - mse: 0.4916\n",
            "Epoch 19/100\n",
            "938/938 [==============================] - 1s 1ms/step - loss: 0.4923 - mse: 0.4923\n",
            "Epoch 20/100\n",
            "938/938 [==============================] - 1s 1ms/step - loss: 0.4950 - mse: 0.4950\n",
            "Epoch 21/100\n",
            "938/938 [==============================] - 1s 1ms/step - loss: 0.4910 - mse: 0.4910\n",
            "Epoch 22/100\n",
            "938/938 [==============================] - 1s 1ms/step - loss: 0.4910 - mse: 0.4910\n",
            "Epoch 23/100\n",
            "938/938 [==============================] - 1s 1ms/step - loss: 0.4907 - mse: 0.4907\n",
            "Epoch 24/100\n",
            "938/938 [==============================] - 1s 1ms/step - loss: 0.4923 - mse: 0.4923\n",
            "Epoch 25/100\n",
            "938/938 [==============================] - 1s 1ms/step - loss: 0.4919 - mse: 0.4919\n",
            "Epoch 26/100\n",
            "938/938 [==============================] - 1s 1ms/step - loss: 0.4896 - mse: 0.4896\n",
            "Epoch 27/100\n",
            "938/938 [==============================] - 1s 1ms/step - loss: 0.4884 - mse: 0.4884\n",
            "Epoch 28/100\n",
            "938/938 [==============================] - 1s 1ms/step - loss: 0.4890 - mse: 0.4890\n",
            "Epoch 29/100\n",
            "938/938 [==============================] - 1s 1ms/step - loss: 0.4872 - mse: 0.4872\n",
            "Epoch 30/100\n",
            "938/938 [==============================] - 1s 1ms/step - loss: 0.4923 - mse: 0.4923\n",
            "Epoch 31/100\n",
            "938/938 [==============================] - 1s 1ms/step - loss: 0.4868 - mse: 0.4868\n",
            "Epoch 32/100\n",
            "938/938 [==============================] - 1s 1ms/step - loss: 0.4868 - mse: 0.4868\n",
            "Epoch 33/100\n",
            "938/938 [==============================] - 1s 1ms/step - loss: 0.4857 - mse: 0.4857\n",
            "Epoch 34/100\n",
            "938/938 [==============================] - 1s 1ms/step - loss: 0.4898 - mse: 0.4898\n",
            "Epoch 35/100\n",
            "938/938 [==============================] - 1s 1ms/step - loss: 0.4871 - mse: 0.4871\n",
            "Epoch 36/100\n",
            "938/938 [==============================] - 1s 1ms/step - loss: 0.4845 - mse: 0.4845\n",
            "Epoch 37/100\n",
            "938/938 [==============================] - 1s 1ms/step - loss: 0.4849 - mse: 0.4849\n",
            "Epoch 38/100\n",
            "938/938 [==============================] - 1s 1ms/step - loss: 0.4835 - mse: 0.4835\n",
            "Epoch 39/100\n",
            "938/938 [==============================] - 1s 1ms/step - loss: 0.4831 - mse: 0.4831\n",
            "Epoch 40/100\n",
            "938/938 [==============================] - 1s 1ms/step - loss: 0.4833 - mse: 0.4833\n",
            "Epoch 41/100\n",
            "938/938 [==============================] - 1s 1ms/step - loss: 0.4839 - mse: 0.4839\n",
            "Epoch 42/100\n",
            "938/938 [==============================] - 1s 1ms/step - loss: 0.4811 - mse: 0.4811\n",
            "Epoch 43/100\n",
            "938/938 [==============================] - 1s 1ms/step - loss: 0.4825 - mse: 0.4825\n",
            "Epoch 44/100\n",
            "938/938 [==============================] - 1s 1ms/step - loss: 0.4791 - mse: 0.4791\n",
            "Epoch 45/100\n",
            "938/938 [==============================] - 1s 1ms/step - loss: 0.4793 - mse: 0.4793\n",
            "Epoch 46/100\n",
            "938/938 [==============================] - 1s 1ms/step - loss: 0.4820 - mse: 0.4820\n",
            "Epoch 47/100\n",
            "938/938 [==============================] - 1s 1ms/step - loss: 0.4818 - mse: 0.4818\n",
            "Epoch 48/100\n",
            "938/938 [==============================] - 1s 1ms/step - loss: 0.4796 - mse: 0.4796\n",
            "Epoch 49/100\n",
            "938/938 [==============================] - 1s 1ms/step - loss: 0.4811 - mse: 0.4811\n",
            "Epoch 50/100\n",
            "938/938 [==============================] - 1s 1ms/step - loss: 0.4782 - mse: 0.4782\n",
            "Epoch 51/100\n",
            "938/938 [==============================] - 1s 1ms/step - loss: 0.4791 - mse: 0.4791\n",
            "Epoch 52/100\n",
            "938/938 [==============================] - 1s 1ms/step - loss: 0.4813 - mse: 0.4813\n",
            "Epoch 53/100\n",
            "938/938 [==============================] - 1s 1ms/step - loss: 0.4793 - mse: 0.4793\n",
            "Epoch 54/100\n",
            "938/938 [==============================] - 1s 1ms/step - loss: 0.4766 - mse: 0.4766\n",
            "Epoch 55/100\n",
            "938/938 [==============================] - 1s 1ms/step - loss: 0.4789 - mse: 0.4789\n",
            "Epoch 56/100\n",
            "938/938 [==============================] - 1s 1ms/step - loss: 0.4757 - mse: 0.4757\n",
            "Epoch 57/100\n",
            "938/938 [==============================] - 1s 1ms/step - loss: 0.4774 - mse: 0.4774\n",
            "Epoch 58/100\n",
            "938/938 [==============================] - 1s 1ms/step - loss: 0.4781 - mse: 0.4781\n",
            "Epoch 59/100\n",
            "938/938 [==============================] - 1s 1ms/step - loss: 0.4777 - mse: 0.4777\n",
            "Epoch 60/100\n",
            "938/938 [==============================] - 1s 1ms/step - loss: 0.4765 - mse: 0.4765\n",
            "Epoch 61/100\n",
            "938/938 [==============================] - 1s 1ms/step - loss: 0.4759 - mse: 0.4759\n",
            "Epoch 62/100\n",
            "938/938 [==============================] - 1s 1ms/step - loss: 0.4740 - mse: 0.4740\n",
            "Epoch 63/100\n",
            "938/938 [==============================] - 1s 1ms/step - loss: 0.4761 - mse: 0.4761\n",
            "Epoch 64/100\n",
            "938/938 [==============================] - 1s 1ms/step - loss: 0.4773 - mse: 0.4773\n",
            "Epoch 65/100\n",
            "938/938 [==============================] - 1s 1ms/step - loss: 0.4757 - mse: 0.4757\n",
            "Epoch 66/100\n",
            "938/938 [==============================] - 1s 1ms/step - loss: 0.4744 - mse: 0.4744\n",
            "Epoch 67/100\n",
            "938/938 [==============================] - 1s 1ms/step - loss: 0.4741 - mse: 0.4741\n",
            "Epoch 68/100\n",
            "938/938 [==============================] - 1s 1ms/step - loss: 0.4750 - mse: 0.4750\n",
            "Epoch 69/100\n",
            "938/938 [==============================] - 1s 1ms/step - loss: 0.4721 - mse: 0.4721\n",
            "Epoch 70/100\n",
            "938/938 [==============================] - 1s 1ms/step - loss: 0.4736 - mse: 0.4736\n",
            "Epoch 71/100\n",
            "938/938 [==============================] - 1s 1ms/step - loss: 0.4757 - mse: 0.4757\n",
            "Epoch 72/100\n",
            "938/938 [==============================] - 1s 1ms/step - loss: 0.4721 - mse: 0.4721\n",
            "Epoch 73/100\n",
            "938/938 [==============================] - 1s 1ms/step - loss: 0.4733 - mse: 0.4733\n",
            "Epoch 74/100\n",
            "938/938 [==============================] - 1s 1ms/step - loss: 0.4737 - mse: 0.4737\n",
            "Epoch 75/100\n",
            "938/938 [==============================] - 1s 1ms/step - loss: 0.4704 - mse: 0.4704\n",
            "Epoch 76/100\n",
            "938/938 [==============================] - 1s 1ms/step - loss: 0.4734 - mse: 0.4734\n",
            "Epoch 77/100\n",
            "938/938 [==============================] - 1s 1ms/step - loss: 0.4741 - mse: 0.4741\n",
            "Epoch 78/100\n",
            "938/938 [==============================] - 1s 1ms/step - loss: 0.4719 - mse: 0.4719\n",
            "Epoch 79/100\n",
            "938/938 [==============================] - 1s 1ms/step - loss: 0.4718 - mse: 0.4718\n",
            "Epoch 80/100\n",
            "938/938 [==============================] - 1s 1ms/step - loss: 0.4737 - mse: 0.4737\n",
            "Epoch 81/100\n",
            "938/938 [==============================] - 1s 1ms/step - loss: 0.4704 - mse: 0.4704\n",
            "Epoch 82/100\n",
            "938/938 [==============================] - 1s 1ms/step - loss: 0.4716 - mse: 0.4716\n",
            "Epoch 83/100\n",
            "938/938 [==============================] - 1s 1ms/step - loss: 0.4718 - mse: 0.4718\n",
            "Epoch 84/100\n",
            "938/938 [==============================] - 1s 1ms/step - loss: 0.4706 - mse: 0.4706\n",
            "Epoch 85/100\n",
            "938/938 [==============================] - 1s 1ms/step - loss: 0.4701 - mse: 0.4701\n",
            "Epoch 86/100\n",
            "938/938 [==============================] - 1s 1ms/step - loss: 0.4718 - mse: 0.4718\n",
            "Epoch 87/100\n",
            "938/938 [==============================] - 1s 1ms/step - loss: 0.4701 - mse: 0.4701\n",
            "Epoch 88/100\n",
            "938/938 [==============================] - 1s 1ms/step - loss: 0.4724 - mse: 0.4724\n",
            "Epoch 89/100\n",
            "938/938 [==============================] - 1s 1ms/step - loss: 0.4706 - mse: 0.4706\n",
            "Epoch 90/100\n",
            "938/938 [==============================] - 1s 1ms/step - loss: 0.4704 - mse: 0.4704\n",
            "Epoch 91/100\n",
            "938/938 [==============================] - 1s 1ms/step - loss: 0.4692 - mse: 0.4692\n",
            "Epoch 92/100\n",
            "938/938 [==============================] - 1s 1ms/step - loss: 0.4708 - mse: 0.4708\n",
            "Epoch 93/100\n",
            "938/938 [==============================] - 1s 1ms/step - loss: 0.4701 - mse: 0.4701\n",
            "Epoch 94/100\n",
            "938/938 [==============================] - 1s 1ms/step - loss: 0.4686 - mse: 0.4686\n",
            "Epoch 95/100\n",
            "938/938 [==============================] - 1s 1ms/step - loss: 0.4692 - mse: 0.4692\n",
            "Epoch 96/100\n",
            "938/938 [==============================] - 1s 1ms/step - loss: 0.4684 - mse: 0.4684\n",
            "Epoch 97/100\n",
            "938/938 [==============================] - 1s 1ms/step - loss: 0.4667 - mse: 0.4667\n",
            "Epoch 98/100\n",
            "938/938 [==============================] - 1s 1ms/step - loss: 0.4663 - mse: 0.4663\n",
            "Epoch 99/100\n",
            "938/938 [==============================] - 1s 1ms/step - loss: 0.4667 - mse: 0.4667\n",
            "Epoch 100/100\n",
            "938/938 [==============================] - 1s 1ms/step - loss: 0.4691 - mse: 0.4691\n",
            "Epoch 1/100\n",
            "938/938 [==============================] - 1s 1ms/step - loss: 0.4963 - mse: 0.4963\n",
            "Epoch 2/100\n",
            "938/938 [==============================] - 1s 1ms/step - loss: 0.4905 - mse: 0.4905\n",
            "Epoch 3/100\n",
            "938/938 [==============================] - 1s 1ms/step - loss: 0.4637 - mse: 0.4637\n",
            "Epoch 4/100\n",
            "938/938 [==============================] - 1s 1ms/step - loss: 0.4525 - mse: 0.4525\n",
            "Epoch 5/100\n",
            "938/938 [==============================] - 1s 1ms/step - loss: 0.4383 - mse: 0.4383\n",
            "Epoch 6/100\n",
            "938/938 [==============================] - 1s 1ms/step - loss: 0.4189 - mse: 0.4189\n",
            "Epoch 7/100\n",
            "938/938 [==============================] - 1s 1ms/step - loss: 0.4065 - mse: 0.4065\n",
            "Epoch 8/100\n",
            "938/938 [==============================] - 1s 1ms/step - loss: 0.4064 - mse: 0.4064\n",
            "Epoch 9/100\n",
            "938/938 [==============================] - 1s 1ms/step - loss: 0.4017 - mse: 0.4017\n",
            "Epoch 10/100\n",
            "938/938 [==============================] - 1s 1ms/step - loss: 0.3991 - mse: 0.3991\n",
            "Epoch 11/100\n",
            "938/938 [==============================] - 1s 1ms/step - loss: 0.4035 - mse: 0.4035\n",
            "Epoch 12/100\n",
            "938/938 [==============================] - 1s 1ms/step - loss: 0.4015 - mse: 0.4015\n",
            "Epoch 13/100\n",
            "938/938 [==============================] - 1s 1ms/step - loss: 0.3989 - mse: 0.3989\n",
            "Epoch 14/100\n",
            "938/938 [==============================] - 1s 1ms/step - loss: 0.3999 - mse: 0.3999\n",
            "Epoch 15/100\n",
            "938/938 [==============================] - 1s 1ms/step - loss: 0.4018 - mse: 0.4018\n",
            "Epoch 16/100\n",
            "938/938 [==============================] - 1s 1ms/step - loss: 0.4007 - mse: 0.4007\n",
            "Epoch 17/100\n",
            "938/938 [==============================] - 1s 1ms/step - loss: 0.3972 - mse: 0.3972\n",
            "Epoch 18/100\n",
            "938/938 [==============================] - 1s 1ms/step - loss: 0.3951 - mse: 0.3951\n",
            "Epoch 19/100\n",
            "938/938 [==============================] - 1s 1ms/step - loss: 0.3897 - mse: 0.3897\n",
            "Epoch 20/100\n",
            "938/938 [==============================] - 1s 1ms/step - loss: 0.3858 - mse: 0.3858\n",
            "Epoch 21/100\n",
            "938/938 [==============================] - 1s 1ms/step - loss: 0.3804 - mse: 0.3804\n",
            "Epoch 22/100\n",
            "938/938 [==============================] - 1s 1ms/step - loss: 0.3757 - mse: 0.3757\n",
            "Epoch 23/100\n",
            "938/938 [==============================] - 1s 1ms/step - loss: 0.3704 - mse: 0.3704\n",
            "Epoch 24/100\n",
            "938/938 [==============================] - 1s 1ms/step - loss: 0.3662 - mse: 0.3662\n",
            "Epoch 25/100\n",
            "938/938 [==============================] - 1s 1ms/step - loss: 0.3624 - mse: 0.3624\n",
            "Epoch 26/100\n",
            "938/938 [==============================] - 1s 1ms/step - loss: 0.3574 - mse: 0.3574\n",
            "Epoch 27/100\n",
            "938/938 [==============================] - 1s 1ms/step - loss: 0.3567 - mse: 0.3567\n",
            "Epoch 28/100\n",
            "938/938 [==============================] - 1s 1ms/step - loss: 0.3561 - mse: 0.3561\n",
            "Epoch 29/100\n",
            "938/938 [==============================] - 1s 1ms/step - loss: 0.3530 - mse: 0.3530\n",
            "Epoch 30/100\n",
            "938/938 [==============================] - 1s 1ms/step - loss: 0.3507 - mse: 0.3507\n",
            "Epoch 31/100\n",
            "938/938 [==============================] - 1s 1ms/step - loss: 0.3490 - mse: 0.3490\n",
            "Epoch 32/100\n",
            "938/938 [==============================] - 1s 1ms/step - loss: 0.3475 - mse: 0.3475\n",
            "Epoch 33/100\n",
            "938/938 [==============================] - 1s 1ms/step - loss: 0.3449 - mse: 0.3449\n",
            "Epoch 34/100\n",
            "938/938 [==============================] - 1s 1ms/step - loss: 0.3447 - mse: 0.3447\n",
            "Epoch 35/100\n",
            "938/938 [==============================] - 1s 1ms/step - loss: 0.3443 - mse: 0.3443\n",
            "Epoch 36/100\n",
            "938/938 [==============================] - 1s 1ms/step - loss: 0.3421 - mse: 0.3421\n",
            "Epoch 37/100\n",
            "938/938 [==============================] - 1s 1ms/step - loss: 0.3420 - mse: 0.3420\n",
            "Epoch 38/100\n",
            "938/938 [==============================] - 1s 1ms/step - loss: 0.3398 - mse: 0.3398\n",
            "Epoch 39/100\n",
            "938/938 [==============================] - 1s 1ms/step - loss: 0.3388 - mse: 0.3388\n",
            "Epoch 40/100\n",
            "938/938 [==============================] - 1s 1ms/step - loss: 0.3359 - mse: 0.3359\n",
            "Epoch 41/100\n",
            "938/938 [==============================] - 1s 1ms/step - loss: 0.3389 - mse: 0.3389\n",
            "Epoch 42/100\n",
            "938/938 [==============================] - 1s 1ms/step - loss: 0.3350 - mse: 0.3350\n",
            "Epoch 43/100\n",
            "938/938 [==============================] - 1s 1ms/step - loss: 0.3363 - mse: 0.3363\n",
            "Epoch 44/100\n",
            "938/938 [==============================] - 1s 1ms/step - loss: 0.3348 - mse: 0.3348\n",
            "Epoch 45/100\n",
            "938/938 [==============================] - 1s 1ms/step - loss: 0.3327 - mse: 0.3327\n",
            "Epoch 46/100\n",
            "938/938 [==============================] - 1s 1ms/step - loss: 0.3345 - mse: 0.3345\n",
            "Epoch 47/100\n",
            "938/938 [==============================] - 1s 1ms/step - loss: 0.3336 - mse: 0.3336\n",
            "Epoch 48/100\n",
            "938/938 [==============================] - 1s 1ms/step - loss: 0.3325 - mse: 0.3325\n",
            "Epoch 49/100\n",
            "938/938 [==============================] - 1s 1ms/step - loss: 0.3338 - mse: 0.3338\n",
            "Epoch 50/100\n",
            "938/938 [==============================] - 1s 1ms/step - loss: 0.3296 - mse: 0.3296\n",
            "Epoch 51/100\n",
            "938/938 [==============================] - 1s 1ms/step - loss: 0.3316 - mse: 0.3316\n",
            "Epoch 52/100\n",
            "938/938 [==============================] - 1s 1ms/step - loss: 0.3312 - mse: 0.3312\n",
            "Epoch 53/100\n",
            "938/938 [==============================] - 1s 1ms/step - loss: 0.3306 - mse: 0.3306\n",
            "Epoch 54/100\n",
            "938/938 [==============================] - 1s 1ms/step - loss: 0.3330 - mse: 0.3330\n",
            "Epoch 55/100\n",
            "938/938 [==============================] - 1s 1ms/step - loss: 0.3303 - mse: 0.3303\n",
            "Epoch 56/100\n",
            "938/938 [==============================] - 1s 1ms/step - loss: 0.3314 - mse: 0.3314\n",
            "Epoch 57/100\n",
            "938/938 [==============================] - 1s 1ms/step - loss: 0.3305 - mse: 0.3305\n",
            "Epoch 58/100\n",
            "938/938 [==============================] - 1s 1ms/step - loss: 0.3312 - mse: 0.3312\n",
            "Epoch 59/100\n",
            "938/938 [==============================] - 1s 1ms/step - loss: 0.3278 - mse: 0.3278\n",
            "Epoch 60/100\n",
            "938/938 [==============================] - 1s 1ms/step - loss: 0.3322 - mse: 0.3322\n",
            "Epoch 61/100\n",
            "938/938 [==============================] - 1s 1ms/step - loss: 0.3267 - mse: 0.3267\n",
            "Epoch 62/100\n",
            "938/938 [==============================] - 1s 1ms/step - loss: 0.3291 - mse: 0.3291\n",
            "Epoch 63/100\n",
            "938/938 [==============================] - 1s 1ms/step - loss: 0.3301 - mse: 0.3301\n",
            "Epoch 64/100\n",
            "938/938 [==============================] - 1s 1ms/step - loss: 0.3299 - mse: 0.3299\n",
            "Epoch 65/100\n",
            "938/938 [==============================] - 1s 1ms/step - loss: 0.3313 - mse: 0.3313\n",
            "Epoch 66/100\n",
            "938/938 [==============================] - 1s 1ms/step - loss: 0.3313 - mse: 0.3313\n",
            "Epoch 67/100\n",
            "938/938 [==============================] - 1s 1ms/step - loss: 0.3297 - mse: 0.3297\n",
            "Epoch 68/100\n",
            "938/938 [==============================] - 1s 1ms/step - loss: 0.3278 - mse: 0.3278\n",
            "Epoch 69/100\n",
            "938/938 [==============================] - 1s 1ms/step - loss: 0.3266 - mse: 0.3266\n",
            "Epoch 70/100\n",
            "938/938 [==============================] - 1s 1ms/step - loss: 0.3296 - mse: 0.3296\n",
            "Epoch 71/100\n",
            "938/938 [==============================] - 1s 1ms/step - loss: 0.3270 - mse: 0.3270\n",
            "Epoch 72/100\n",
            "938/938 [==============================] - 1s 1ms/step - loss: 0.3247 - mse: 0.3247\n",
            "Epoch 73/100\n",
            "938/938 [==============================] - 1s 1ms/step - loss: 0.3285 - mse: 0.3285\n",
            "Epoch 74/100\n",
            "938/938 [==============================] - 1s 1ms/step - loss: 0.3276 - mse: 0.3276\n",
            "Epoch 75/100\n",
            "938/938 [==============================] - 1s 1ms/step - loss: 0.3275 - mse: 0.3275\n",
            "Epoch 76/100\n",
            "938/938 [==============================] - 1s 1ms/step - loss: 0.3262 - mse: 0.3262\n",
            "Epoch 77/100\n",
            "938/938 [==============================] - 1s 1ms/step - loss: 0.3263 - mse: 0.3263\n",
            "Epoch 78/100\n",
            "938/938 [==============================] - 1s 1ms/step - loss: 0.3267 - mse: 0.3267\n",
            "Epoch 79/100\n",
            "938/938 [==============================] - 1s 1ms/step - loss: 0.3244 - mse: 0.3244\n",
            "Epoch 80/100\n",
            "938/938 [==============================] - 1s 1ms/step - loss: 0.3268 - mse: 0.3268\n",
            "Epoch 81/100\n",
            "938/938 [==============================] - 1s 1ms/step - loss: 0.3263 - mse: 0.3263\n",
            "Epoch 82/100\n",
            "938/938 [==============================] - 1s 1ms/step - loss: 0.3248 - mse: 0.3248\n",
            "Epoch 83/100\n",
            "938/938 [==============================] - 1s 1ms/step - loss: 0.3242 - mse: 0.3242\n",
            "Epoch 84/100\n",
            "938/938 [==============================] - 1s 1ms/step - loss: 0.3257 - mse: 0.3257\n",
            "Epoch 85/100\n",
            "938/938 [==============================] - 1s 1ms/step - loss: 0.3266 - mse: 0.3266\n",
            "Epoch 86/100\n",
            "938/938 [==============================] - 1s 1ms/step - loss: 0.3239 - mse: 0.3239\n",
            "Epoch 87/100\n",
            "938/938 [==============================] - 1s 1ms/step - loss: 0.3289 - mse: 0.3289\n",
            "Epoch 88/100\n",
            "938/938 [==============================] - 1s 1ms/step - loss: 0.3280 - mse: 0.3280\n",
            "Epoch 89/100\n",
            "938/938 [==============================] - 1s 1ms/step - loss: 0.3271 - mse: 0.3271\n",
            "Epoch 90/100\n",
            "938/938 [==============================] - 1s 1ms/step - loss: 0.3281 - mse: 0.3281\n",
            "Epoch 91/100\n",
            "938/938 [==============================] - 1s 1ms/step - loss: 0.3249 - mse: 0.3249\n",
            "Epoch 92/100\n",
            "938/938 [==============================] - 1s 1ms/step - loss: 0.3241 - mse: 0.3241\n",
            "Epoch 93/100\n",
            "938/938 [==============================] - 1s 1ms/step - loss: 0.3259 - mse: 0.3259\n",
            "Epoch 94/100\n",
            "938/938 [==============================] - 1s 1ms/step - loss: 0.3247 - mse: 0.3247\n",
            "Epoch 95/100\n",
            "938/938 [==============================] - 1s 1ms/step - loss: 0.3224 - mse: 0.3224\n",
            "Epoch 96/100\n",
            "938/938 [==============================] - 1s 1ms/step - loss: 0.3223 - mse: 0.3223\n",
            "Epoch 97/100\n",
            "938/938 [==============================] - 1s 1ms/step - loss: 0.3299 - mse: 0.3299\n",
            "Epoch 98/100\n",
            "938/938 [==============================] - 1s 1ms/step - loss: 0.3250 - mse: 0.3250\n",
            "Epoch 99/100\n",
            "938/938 [==============================] - 1s 1ms/step - loss: 0.3278 - mse: 0.3278\n",
            "Epoch 100/100\n",
            "938/938 [==============================] - 1s 1ms/step - loss: 0.3270 - mse: 0.3270\n",
            "Epoch 1/100\n",
            "938/938 [==============================] - 2s 1ms/step - loss: 0.4965 - mse: 0.4965\n",
            "Epoch 2/100\n",
            "938/938 [==============================] - 1s 1ms/step - loss: 0.4883 - mse: 0.4883\n",
            "Epoch 3/100\n",
            "938/938 [==============================] - 1s 1ms/step - loss: 0.4567 - mse: 0.4567\n",
            "Epoch 4/100\n",
            "938/938 [==============================] - 1s 1ms/step - loss: 0.4512 - mse: 0.4512\n",
            "Epoch 5/100\n",
            "938/938 [==============================] - 1s 1ms/step - loss: 0.4438 - mse: 0.4438\n",
            "Epoch 6/100\n",
            "938/938 [==============================] - 1s 1ms/step - loss: 0.4338 - mse: 0.4338\n",
            "Epoch 7/100\n",
            "938/938 [==============================] - 1s 1ms/step - loss: 0.4287 - mse: 0.4287\n",
            "Epoch 8/100\n",
            "938/938 [==============================] - 1s 1ms/step - loss: 0.4240 - mse: 0.4240\n",
            "Epoch 9/100\n",
            "938/938 [==============================] - 1s 1ms/step - loss: 0.4197 - mse: 0.4197\n",
            "Epoch 10/100\n",
            "938/938 [==============================] - 1s 1ms/step - loss: 0.4144 - mse: 0.4144\n",
            "Epoch 11/100\n",
            "938/938 [==============================] - 1s 1ms/step - loss: 0.4128 - mse: 0.4128\n",
            "Epoch 12/100\n",
            "938/938 [==============================] - 1s 1ms/step - loss: 0.4108 - mse: 0.4108\n",
            "Epoch 13/100\n",
            "938/938 [==============================] - 1s 1ms/step - loss: 0.4060 - mse: 0.4060\n",
            "Epoch 14/100\n",
            "938/938 [==============================] - 1s 1ms/step - loss: 0.4042 - mse: 0.4042\n",
            "Epoch 15/100\n",
            "938/938 [==============================] - 1s 1ms/step - loss: 0.4058 - mse: 0.4058\n",
            "Epoch 16/100\n",
            "938/938 [==============================] - 1s 1ms/step - loss: 0.4050 - mse: 0.4050\n",
            "Epoch 17/100\n",
            "938/938 [==============================] - 1s 1ms/step - loss: 0.4014 - mse: 0.4014\n",
            "Epoch 18/100\n",
            "938/938 [==============================] - 1s 1ms/step - loss: 0.4022 - mse: 0.4022\n",
            "Epoch 19/100\n",
            "938/938 [==============================] - 1s 1ms/step - loss: 0.4021 - mse: 0.4021\n",
            "Epoch 20/100\n",
            "938/938 [==============================] - 1s 1ms/step - loss: 0.3992 - mse: 0.3992\n",
            "Epoch 21/100\n",
            "938/938 [==============================] - 1s 1ms/step - loss: 0.3991 - mse: 0.3991\n",
            "Epoch 22/100\n",
            "938/938 [==============================] - 1s 1ms/step - loss: 0.4019 - mse: 0.4019\n",
            "Epoch 23/100\n",
            "938/938 [==============================] - 1s 1ms/step - loss: 0.3994 - mse: 0.3994\n",
            "Epoch 24/100\n",
            "938/938 [==============================] - 1s 1ms/step - loss: 0.3959 - mse: 0.3959\n",
            "Epoch 25/100\n",
            "938/938 [==============================] - 1s 1ms/step - loss: 0.3976 - mse: 0.3976\n",
            "Epoch 26/100\n",
            "938/938 [==============================] - 1s 1ms/step - loss: 0.3986 - mse: 0.3986\n",
            "Epoch 27/100\n",
            "938/938 [==============================] - 1s 1ms/step - loss: 0.3971 - mse: 0.3971\n",
            "Epoch 28/100\n",
            "938/938 [==============================] - 1s 1ms/step - loss: 0.3993 - mse: 0.3993\n",
            "Epoch 29/100\n",
            "938/938 [==============================] - 1s 1ms/step - loss: 0.3942 - mse: 0.3942\n",
            "Epoch 30/100\n",
            "938/938 [==============================] - 1s 1ms/step - loss: 0.3986 - mse: 0.3986\n",
            "Epoch 31/100\n",
            "938/938 [==============================] - 1s 1ms/step - loss: 0.3974 - mse: 0.3974\n",
            "Epoch 32/100\n",
            "938/938 [==============================] - 1s 1ms/step - loss: 0.3954 - mse: 0.3954\n",
            "Epoch 33/100\n",
            "938/938 [==============================] - 1s 1ms/step - loss: 0.3952 - mse: 0.3952\n",
            "Epoch 34/100\n",
            "938/938 [==============================] - 1s 1ms/step - loss: 0.3950 - mse: 0.3950\n",
            "Epoch 35/100\n",
            "938/938 [==============================] - 1s 1ms/step - loss: 0.3953 - mse: 0.3953\n",
            "Epoch 36/100\n",
            "938/938 [==============================] - 1s 1ms/step - loss: 0.3983 - mse: 0.3983\n",
            "Epoch 37/100\n",
            "938/938 [==============================] - 1s 1ms/step - loss: 0.3970 - mse: 0.3970\n",
            "Epoch 38/100\n",
            "938/938 [==============================] - 1s 1ms/step - loss: 0.3948 - mse: 0.3948\n",
            "Epoch 39/100\n",
            "938/938 [==============================] - 1s 1ms/step - loss: 0.3984 - mse: 0.3984\n",
            "Epoch 40/100\n",
            "938/938 [==============================] - 1s 1ms/step - loss: 0.3908 - mse: 0.3908\n",
            "Epoch 41/100\n",
            "938/938 [==============================] - 1s 1ms/step - loss: 0.3886 - mse: 0.3886\n",
            "Epoch 42/100\n",
            "938/938 [==============================] - 1s 1ms/step - loss: 0.3893 - mse: 0.3893\n",
            "Epoch 43/100\n",
            "938/938 [==============================] - 1s 1ms/step - loss: 0.3919 - mse: 0.3919\n",
            "Epoch 44/100\n",
            "938/938 [==============================] - 1s 1ms/step - loss: 0.3894 - mse: 0.3894\n",
            "Epoch 45/100\n",
            "938/938 [==============================] - 1s 1ms/step - loss: 0.3920 - mse: 0.3920\n",
            "Epoch 46/100\n",
            "938/938 [==============================] - 1s 1ms/step - loss: 0.3911 - mse: 0.3911\n",
            "Epoch 47/100\n",
            "938/938 [==============================] - 1s 1ms/step - loss: 0.3899 - mse: 0.3899\n",
            "Epoch 48/100\n",
            "938/938 [==============================] - 1s 1ms/step - loss: 0.3859 - mse: 0.3859\n",
            "Epoch 49/100\n",
            "938/938 [==============================] - 1s 1ms/step - loss: 0.3867 - mse: 0.3867\n",
            "Epoch 50/100\n",
            "938/938 [==============================] - 1s 1ms/step - loss: 0.3846 - mse: 0.3846\n",
            "Epoch 51/100\n",
            "938/938 [==============================] - 1s 1ms/step - loss: 0.3811 - mse: 0.3811\n",
            "Epoch 52/100\n",
            "938/938 [==============================] - 1s 1ms/step - loss: 0.3769 - mse: 0.3769\n",
            "Epoch 53/100\n",
            "938/938 [==============================] - 1s 1ms/step - loss: 0.3776 - mse: 0.3776\n",
            "Epoch 54/100\n",
            "938/938 [==============================] - 1s 1ms/step - loss: 0.3739 - mse: 0.3739\n",
            "Epoch 55/100\n",
            "938/938 [==============================] - 1s 1ms/step - loss: 0.3715 - mse: 0.3715\n",
            "Epoch 56/100\n",
            "938/938 [==============================] - 1s 1ms/step - loss: 0.3709 - mse: 0.3709\n",
            "Epoch 57/100\n",
            "938/938 [==============================] - 1s 1ms/step - loss: 0.3645 - mse: 0.3645\n",
            "Epoch 58/100\n",
            "938/938 [==============================] - 1s 1ms/step - loss: 0.3626 - mse: 0.3626\n",
            "Epoch 59/100\n",
            "938/938 [==============================] - 1s 1ms/step - loss: 0.3523 - mse: 0.3523\n",
            "Epoch 60/100\n",
            "938/938 [==============================] - 1s 1ms/step - loss: 0.3567 - mse: 0.3567\n",
            "Epoch 61/100\n",
            "938/938 [==============================] - 1s 1ms/step - loss: 0.3555 - mse: 0.3555\n",
            "Epoch 62/100\n",
            "938/938 [==============================] - 1s 1ms/step - loss: 0.3521 - mse: 0.3521\n",
            "Epoch 63/100\n",
            "938/938 [==============================] - 1s 1ms/step - loss: 0.3504 - mse: 0.3504\n",
            "Epoch 64/100\n",
            "938/938 [==============================] - 1s 1ms/step - loss: 0.3512 - mse: 0.3512\n",
            "Epoch 65/100\n",
            "938/938 [==============================] - 1s 1ms/step - loss: 0.3518 - mse: 0.3518\n",
            "Epoch 66/100\n",
            "938/938 [==============================] - 1s 1ms/step - loss: 0.3486 - mse: 0.3486\n",
            "Epoch 67/100\n",
            "938/938 [==============================] - 1s 1ms/step - loss: 0.3478 - mse: 0.3478\n",
            "Epoch 68/100\n",
            "938/938 [==============================] - 1s 1ms/step - loss: 0.3523 - mse: 0.3523\n",
            "Epoch 69/100\n",
            "938/938 [==============================] - 1s 1ms/step - loss: 0.3512 - mse: 0.3512\n",
            "Epoch 70/100\n",
            "938/938 [==============================] - 1s 1ms/step - loss: 0.3494 - mse: 0.3494\n",
            "Epoch 71/100\n",
            "938/938 [==============================] - 1s 1ms/step - loss: 0.3491 - mse: 0.3491\n",
            "Epoch 72/100\n",
            "938/938 [==============================] - 1s 1ms/step - loss: 0.3503 - mse: 0.3503\n",
            "Epoch 73/100\n",
            "938/938 [==============================] - 1s 1ms/step - loss: 0.3482 - mse: 0.3482\n",
            "Epoch 74/100\n",
            "938/938 [==============================] - 1s 1ms/step - loss: 0.3491 - mse: 0.3491\n",
            "Epoch 75/100\n",
            "938/938 [==============================] - 1s 1ms/step - loss: 0.3481 - mse: 0.3481\n",
            "Epoch 76/100\n",
            "938/938 [==============================] - 1s 1ms/step - loss: 0.3506 - mse: 0.3506\n",
            "Epoch 77/100\n",
            "938/938 [==============================] - 1s 1ms/step - loss: 0.3490 - mse: 0.3490\n",
            "Epoch 78/100\n",
            "938/938 [==============================] - 1s 1ms/step - loss: 0.3485 - mse: 0.3485\n",
            "Epoch 79/100\n",
            "938/938 [==============================] - 1s 1ms/step - loss: 0.3515 - mse: 0.3515\n",
            "Epoch 80/100\n",
            "938/938 [==============================] - 1s 1ms/step - loss: 0.3484 - mse: 0.3484\n",
            "Epoch 81/100\n",
            "938/938 [==============================] - 1s 1ms/step - loss: 0.3485 - mse: 0.3485\n",
            "Epoch 82/100\n",
            "938/938 [==============================] - 1s 1ms/step - loss: 0.3480 - mse: 0.3480\n",
            "Epoch 83/100\n",
            "938/938 [==============================] - 1s 1ms/step - loss: 0.3471 - mse: 0.3471\n",
            "Epoch 84/100\n",
            "938/938 [==============================] - 1s 1ms/step - loss: 0.3489 - mse: 0.3489\n",
            "Epoch 85/100\n",
            "938/938 [==============================] - 1s 1ms/step - loss: 0.3475 - mse: 0.3475\n",
            "Epoch 86/100\n",
            "938/938 [==============================] - 1s 1ms/step - loss: 0.3472 - mse: 0.3472\n",
            "Epoch 87/100\n",
            "938/938 [==============================] - 1s 1ms/step - loss: 0.3482 - mse: 0.3482\n",
            "Epoch 88/100\n",
            "938/938 [==============================] - 1s 1ms/step - loss: 0.3479 - mse: 0.3479\n",
            "Epoch 89/100\n",
            "938/938 [==============================] - 1s 1ms/step - loss: 0.3505 - mse: 0.3505\n",
            "Epoch 90/100\n",
            "938/938 [==============================] - 1s 1ms/step - loss: 0.3464 - mse: 0.3464\n",
            "Epoch 91/100\n",
            "938/938 [==============================] - 1s 1ms/step - loss: 0.3469 - mse: 0.3469\n",
            "Epoch 92/100\n",
            "938/938 [==============================] - 1s 1ms/step - loss: 0.3480 - mse: 0.3480\n",
            "Epoch 93/100\n",
            "938/938 [==============================] - 1s 1ms/step - loss: 0.3486 - mse: 0.3486\n",
            "Epoch 94/100\n",
            "938/938 [==============================] - 1s 1ms/step - loss: 0.3444 - mse: 0.3444\n",
            "Epoch 95/100\n",
            "938/938 [==============================] - 1s 1ms/step - loss: 0.3502 - mse: 0.3502\n",
            "Epoch 96/100\n",
            "938/938 [==============================] - 1s 1ms/step - loss: 0.3484 - mse: 0.3484\n",
            "Epoch 97/100\n",
            "938/938 [==============================] - 1s 1ms/step - loss: 0.3488 - mse: 0.3488\n",
            "Epoch 98/100\n",
            "938/938 [==============================] - 1s 1ms/step - loss: 0.3455 - mse: 0.3455\n",
            "Epoch 99/100\n",
            "938/938 [==============================] - 1s 1ms/step - loss: 0.3469 - mse: 0.3469\n",
            "Epoch 100/100\n",
            "938/938 [==============================] - 1s 1ms/step - loss: 0.3487 - mse: 0.3487\n"
          ],
          "name": "stdout"
        }
      ]
    },
    {
      "cell_type": "code",
      "metadata": {
        "id": "uNepXsE2gJAE"
      },
      "source": [
        "y_pred_1 = model_1.predict(X_test)\n",
        "y_pred_2 = model_2.predict(X_test)\n",
        "y_pred_3 = model_3.predict(X_test)"
      ],
      "execution_count": null,
      "outputs": []
    },
    {
      "cell_type": "code",
      "metadata": {
        "colab": {
          "base_uri": "https://localhost:8080/",
          "height": 295
        },
        "id": "830nAdwIhnxF",
        "outputId": "c98fd5e4-a7ac-42a3-8ae9-f1bc5dd21e4f"
      },
      "source": [
        "import matplotlib.pyplot as plt\n",
        "plt.plot(history_1.history['loss']) \n",
        "#plt.plot(history.history['val_loss']) \n",
        "plt.title('Model loss') \n",
        "plt.ylabel('Loss') \n",
        "plt.xlabel('Number of Units') \n",
        "plt.legend(['Train', 'Test'], loc='upper left') \n",
        "plt.show()"
      ],
      "execution_count": null,
      "outputs": [
        {
          "output_type": "display_data",
          "data": {
            "image/png": "[encoded data removed]",
            "text/plain": [
              "<Figure size 432x288 with 1 Axes>"
            ]
          },
          "metadata": {
            "tags": [],
            "needs_background": "light"
          }
        }
      ]
    },
    {
      "cell_type": "code",
      "metadata": {
        "colab": {
          "base_uri": "https://localhost:8080/",
          "height": 295
        },
        "id": "xUrnEDVmkY5T",
        "outputId": "5e358c09-b2c6-4017-e171-c1266c3e93cd"
      },
      "source": [
        "import matplotlib.pyplot as plt\n",
        "plt.plot(history_2.history['loss']) \n",
        "#plt.plot(history.history['val_loss']) \n",
        "plt.title('Model loss') \n",
        "plt.ylabel('Loss') \n",
        "plt.xlabel('Number of Units') \n",
        "plt.legend(['Train', 'Test'], loc='upper left') \n",
        "plt.show()"
      ],
      "execution_count": null,
      "outputs": [
        {
          "output_type": "display_data",
          "data": {
            "image/png": "[encoded data removed]",
            "text/plain": [
              "<Figure size 432x288 with 1 Axes>"
            ]
          },
          "metadata": {
            "tags": [],
            "needs_background": "light"
          }
        }
      ]
    },
    {
      "cell_type": "code",
      "metadata": {
        "colab": {
          "base_uri": "https://localhost:8080/",
          "height": 295
        },
        "id": "4gdMdsOOkYvo",
        "outputId": "98c496af-1563-41bd-a60d-5287b40dfa49"
      },
      "source": [
        "import matplotlib.pyplot as plt\n",
        "plt.plot(history_3.history['loss']) \n",
        "#plt.plot(history.history['val_loss']) \n",
        "plt.title('Model loss') \n",
        "plt.ylabel('Loss') \n",
        "plt.xlabel('Number of Units') \n",
        "plt.legend(['Train', 'Test'], loc='upper left') \n",
        "plt.show()"
      ],
      "execution_count": null,
      "outputs": [
        {
          "output_type": "display_data",
          "data": {
            "image/png": "[encoded data removed]",
            "text/plain": [
              "<Figure size 432x288 with 1 Axes>"
            ]
          },
          "metadata": {
            "tags": [],
            "needs_background": "light"
          }
        }
      ]
    },
    {
      "cell_type": "markdown",
      "metadata": {
        "id": "3eSiwz0Uyp0S"
      },
      "source": [
        "### c. For each version, try different number of neurals in your NN and replicate the following left plot (source: https://ojs.aaai.org/index.php/AAAI/article/view/10913). (You don’t need to replicate exactly same results below but need to show the performance difference of 3 versions of Neural Networks)"
      ]
    },
    {
      "cell_type": "code",
      "metadata": {
        "colab": {
          "base_uri": "https://localhost:8080/",
          "height": 312
        },
        "id": "KeFV-vSHyp0S",
        "outputId": "fc354a25-66e6-432c-f772-ebe94140ca5c"
      },
      "source": [
        "from tensorflow.keras.utils import plot_model\n",
        "plot_model(model_1, show_shapes=True, show_layer_names=True)\n"
      ],
      "execution_count": null,
      "outputs": [
        {
          "output_type": "execute_result",
          "data": {
            "image/png": "[encoded data removed]",
            "text/plain": [
              "<IPython.core.display.Image object>"
            ]
          },
          "metadata": {
            "tags": []
          },
          "execution_count": 20
        }
      ]
    },
    {
      "cell_type": "code",
      "metadata": {
        "colab": {
          "base_uri": "https://localhost:8080/",
          "height": 422
        },
        "id": "0b_92plUl73T",
        "outputId": "4c4f3d9b-1e52-4da8-c893-da88a79a6324"
      },
      "source": [
        "plot_model(model_2, show_shapes=True, show_layer_names=True)\n"
      ],
      "execution_count": null,
      "outputs": [
        {
          "output_type": "execute_result",
          "data": {
            "image/png": "[encoded data removed]",
            "text/plain": [
              "<IPython.core.display.Image object>"
            ]
          },
          "metadata": {
            "tags": []
          },
          "execution_count": 21
        }
      ]
    },
    {
      "cell_type": "code",
      "metadata": {
        "colab": {
          "base_uri": "https://localhost:8080/",
          "height": 533
        },
        "id": "v_Nc3VYOyp0S",
        "outputId": "7a1eddd8-4510-4806-c595-0a1ebd829311"
      },
      "source": [
        "plot_model(model_3, show_shapes=True, show_layer_names=True)"
      ],
      "execution_count": null,
      "outputs": [
        {
          "output_type": "execute_result",
          "data": {
            "image/png": "[encoded data removed]",
            "text/plain": [
              "<IPython.core.display.Image object>"
            ]
          },
          "metadata": {
            "tags": []
          },
          "execution_count": 22
        }
      ]
    },
    {
      "cell_type": "code",
      "metadata": {
        "id": "Zp0Aj7wdyp0T"
      },
      "source": [
        ""
      ],
      "execution_count": null,
      "outputs": []
    },
    {
      "cell_type": "code",
      "metadata": {
        "id": "YL6oKMfzyp0T"
      },
      "source": [
        ""
      ],
      "execution_count": null,
      "outputs": []
    },
    {
      "cell_type": "code",
      "metadata": {
        "id": "W3WCM3Ioyp0T"
      },
      "source": [
        ""
      ],
      "execution_count": null,
      "outputs": []
    },
    {
      "cell_type": "markdown",
      "metadata": {
        "id": "h4JPLMyhyp0T"
      },
      "source": [
        "## 2. "
      ]
    },
    {
      "cell_type": "markdown",
      "metadata": {
        "id": "ezCGGc-Gyp0T"
      },
      "source": [
        "### This is an Image classification exercise. We will play with an expired Kaggle competition, please follow the rule of Kaggle and check the following page for more information https://www.kaggle.com/c/dogs- vs-cats-redux-kernels-edition/overview. After submit you results, use screenshot to show you score (see image below). They don’t provide ranking for this competition anymore. Thus, no need to show your ranking at Public/Private Leaderboard. (Name formation of your submission: MSBA.SessionX.Yourname, please replace X and Yourname with the correct string) using the screenshot on the Private Leaderboard, along with the description of your solutions and the codes (ipynb formation is highly encouraged) as the final submission."
      ]
    },
    {
      "cell_type": "code",
      "metadata": {
        "id": "j3-dxttEyp0U"
      },
      "source": [
        "# Import packages\n",
        "import pandas as pd\n",
        "import cv2\n",
        "import numpy as np\n",
        "import tensorflow as tf\n",
        "from tensorflow.keras.applications import vgg16\n",
        "import zipfile\n",
        "import os\n",
        "from random import shuffle\n",
        "from glob import glob\n"
      ],
      "execution_count": 1,
      "outputs": []
    },
    {
      "cell_type": "code",
      "metadata": {
        "id": "jRQ_BU_pXmAm"
      },
      "source": [
        "# Unzip files\n",
        "with zipfile.ZipFile('/content/sample_data/train.zip', 'r') as zip_ref:\n",
        "    zip_ref.extractall('/content/importeddata/')\n",
        "    \n",
        "with zipfile.ZipFile('/content/sample_data/test.zip', 'r') as zip_ref:\n",
        "    zip_ref.extractall('/content/importeddata/')"
      ],
      "execution_count": 2,
      "outputs": []
    },
    {
      "cell_type": "code",
      "metadata": {
        "colab": {
          "base_uri": "https://localhost:8080/",
          "height": 204
        },
        "id": "wsVFqg6dBmki",
        "outputId": "2baaf28a-f70a-4109-d3e0-14a0ff732e0f"
      },
      "source": [
        "# Label images\n",
        "def get_label(path):\n",
        "  label = []\n",
        "  for f in os.listdir(path):\n",
        "    if (f.split(\".\")[0] == \"dog\"):\n",
        "      label.append(str(1))\n",
        "    elif (f.split(\".\")[0] == \"cat\"):\n",
        "      label.append(str(0))\n",
        "  return label \n",
        "\n",
        "label = get_label(\"../content/importeddata/train\")\n",
        "\n",
        "# Label path\n",
        "def get_path(p):\n",
        "    path = []\n",
        "    for files in os.listdir(p):\n",
        "        path.append(files)\n",
        "    return path\n",
        "\n",
        "train_path = get_path('../content/importeddata/train')\n",
        "test_path = get_path('../content/importeddata/test')\n",
        "\n",
        "# Convert to dataframe\n",
        "df_train = pd.DataFrame({\"image_name\": train_path, \"label\":label})\n",
        "df_train.head()"
      ],
      "execution_count": 3,
      "outputs": [
        {
          "output_type": "execute_result",
          "data": {
            "text/html": [
              "<div>\n",
              "<style scoped>\n",
              "    .dataframe tbody tr th:only-of-type {\n",
              "        vertical-align: middle;\n",
              "    }\n",
              "\n",
              "    .dataframe tbody tr th {\n",
              "        vertical-align: top;\n",
              "    }\n",
              "\n",
              "    .dataframe thead th {\n",
              "        text-align: right;\n",
              "    }\n",
              "</style>\n",
              "<table border=\"1\" class=\"dataframe\">\n",
              "  <thead>\n",
              "    <tr style=\"text-align: right;\">\n",
              "      <th></th>\n",
              "      <th>image_name</th>\n",
              "      <th>label</th>\n",
              "    </tr>\n",
              "  </thead>\n",
              "  <tbody>\n",
              "    <tr>\n",
              "      <th>0</th>\n",
              "      <td>cat.944.jpg</td>\n",
              "      <td>0</td>\n",
              "    </tr>\n",
              "    <tr>\n",
              "      <th>1</th>\n",
              "      <td>cat.7409.jpg</td>\n",
              "      <td>0</td>\n",
              "    </tr>\n",
              "    <tr>\n",
              "      <th>2</th>\n",
              "      <td>dog.2307.jpg</td>\n",
              "      <td>1</td>\n",
              "    </tr>\n",
              "    <tr>\n",
              "      <th>3</th>\n",
              "      <td>cat.5896.jpg</td>\n",
              "      <td>0</td>\n",
              "    </tr>\n",
              "    <tr>\n",
              "      <th>4</th>\n",
              "      <td>dog.9517.jpg</td>\n",
              "      <td>1</td>\n",
              "    </tr>\n",
              "  </tbody>\n",
              "</table>\n",
              "</div>"
            ],
            "text/plain": [
              "     image_name label\n",
              "0   cat.944.jpg     0\n",
              "1  cat.7409.jpg     0\n",
              "2  dog.2307.jpg     1\n",
              "3  cat.5896.jpg     0\n",
              "4  dog.9517.jpg     1"
            ]
          },
          "metadata": {
            "tags": []
          },
          "execution_count": 3
        }
      ]
    },
    {
      "cell_type": "code",
      "metadata": {
        "colab": {
          "base_uri": "https://localhost:8080/"
        },
        "id": "xFmJCzFp09XD",
        "outputId": "2a80f047-b1ac-4b9b-fa65-374b6d9ff70d"
      },
      "source": [
        "df_test = pd.DataFrame({\"image_name\": test_path})\n",
        "df_test.head()\n",
        "df_test.shape"
      ],
      "execution_count": 4,
      "outputs": [
        {
          "output_type": "execute_result",
          "data": {
            "text/plain": [
              "(12500, 1)"
            ]
          },
          "metadata": {
            "tags": []
          },
          "execution_count": 4
        }
      ]
    },
    {
      "cell_type": "code",
      "metadata": {
        "colab": {
          "base_uri": "https://localhost:8080/"
        },
        "id": "LgvYpLLnBmhf",
        "outputId": "f4b6cb5b-228e-479f-dce1-7c128adb782c"
      },
      "source": [
        "# Split train and valid\n",
        "from sklearn.model_selection import train_test_split\n",
        "\n",
        "df_trainsplit, df_valid = train_test_split(df_train, test_size = 0.5, stratify = df_train[\"label\"], random_state = 123)\n",
        "print(df_trainsplit.shape, df_valid.shape)"
      ],
      "execution_count": 5,
      "outputs": [
        {
          "output_type": "stream",
          "text": [
            "(12500, 2) (12500, 2)\n"
          ],
          "name": "stdout"
        }
      ]
    },
    {
      "cell_type": "code",
      "metadata": {
        "colab": {
          "base_uri": "https://localhost:8080/"
        },
        "id": "oFNG3KnkGDZX",
        "outputId": "d5a02177-67ae-4536-d708-ab3a1ed70297"
      },
      "source": [
        "# Preprocess images\n",
        "from keras.preprocessing.image import ImageDataGenerator\n",
        "from keras.applications.imagenet_utils import preprocess_input\n",
        "\n",
        "dg_train = ImageDataGenerator(rotation_range = 10,\n",
        "                              zoom_range = 0.1, \n",
        "                              horizontal_flip = True,\n",
        "                              fill_mode = \"nearest\",\n",
        "                              width_shift_range = 0.1,\n",
        "                              height_shift_range = 0.1,\n",
        "                              preprocessing_function = preprocess_input)\n",
        "\n",
        "g_train = dg_train.flow_from_dataframe(df_trainsplit, \n",
        "                                       directory = \"../content/importeddata/train\",\n",
        "                                       x_col = \"image_name\",\n",
        "                                       y_col = \"label\",\n",
        "                                       target_size = (224, 224),\n",
        "                                       batch_size = 64,\n",
        "                                       class_mode = \"binary\")\n",
        "\n",
        "dg_valid = ImageDataGenerator(preprocessing_function = preprocess_input)\n",
        "\n",
        "g_valid = dg_valid.flow_from_dataframe(df_valid, \n",
        "                                       directory = \"../content/importeddata/train\",\n",
        "                                       x_col = \"image_name\",\n",
        "                                       y_col = \"label\",\n",
        "                                       target_size = (224, 224),\n",
        "                                       batch_size = 64,\n",
        "                                       class_mode = \"binary\")"
      ],
      "execution_count": 6,
      "outputs": [
        {
          "output_type": "stream",
          "text": [
            "Found 12500 validated image filenames belonging to 2 classes.\n",
            "Found 12500 validated image filenames belonging to 2 classes.\n"
          ],
          "name": "stdout"
        }
      ]
    },
    {
      "cell_type": "code",
      "metadata": {
        "id": "9HQ_5msgBmeZ",
        "colab": {
          "base_uri": "https://localhost:8080/"
        },
        "outputId": "37c1cd7f-8a6b-4362-fc7c-e631f227b553"
      },
      "source": [
        "# Build model\n",
        "from keras.models import Sequential\n",
        "from keras.applications.resnet import ResNet50\n",
        "from keras.layers import Dense\n",
        "\n",
        "model = Sequential()\n",
        "model.add(ResNet50(include_top = False, pooling = \"max\", weights = \"imagenet\"))\n",
        "model.add(Dense(1, activation = \"sigmoid\"))\n",
        "model.layers[0].trainable = False\n",
        "\n",
        "# Compile model\n",
        "model.compile(optimizer = \"Adam\", metrics = [\"accuracy\"], loss = \"binary_crossentropy\")\n"
      ],
      "execution_count": 7,
      "outputs": [
        {
          "output_type": "stream",
          "text": [
            "Downloading data from https://storage.googleapis.com/tensorflow/keras-applications/resnet/resnet50_weights_tf_dim_ordering_tf_kernels_notop.h5\n",
            "94773248/94765736 [==============================] - 2s 0us/step\n"
          ],
          "name": "stdout"
        }
      ]
    },
    {
      "cell_type": "code",
      "metadata": {
        "colab": {
          "base_uri": "https://localhost:8080/"
        },
        "id": "_-rDY0gVLabF",
        "outputId": "a81a49ff-cb50-427d-8fb4-00aac5bc9330"
      },
      "source": [
        "# Train model\n",
        "from keras.callbacks import ModelCheckpoint\n",
        "\n",
        "cp = ModelCheckpoint(filepath = \"dogcat.weights.best.hdf5\",\n",
        "                                save_best_only = True, \n",
        "                                save_weights_only = True)\n",
        "\n",
        "model.fit(g_train,\n",
        "          #, batch_size=64 \n",
        "          epochs = 7 \n",
        "          #validation_data = g_valid,\n",
        "          #callbacks = [cp]\n",
        "          )"
      ],
      "execution_count": 8,
      "outputs": [
        {
          "output_type": "stream",
          "text": [
            "Epoch 1/7\n",
            "196/196 [==============================] - 2125s 11s/step - loss: 1.6704 - accuracy: 0.7973\n",
            "Epoch 2/7\n",
            "196/196 [==============================] - 2031s 10s/step - loss: 0.1139 - accuracy: 0.9720\n",
            "Epoch 3/7\n",
            "196/196 [==============================] - 2024s 10s/step - loss: 0.1024 - accuracy: 0.9775\n",
            "Epoch 4/7\n",
            "196/196 [==============================] - 2005s 10s/step - loss: 0.0801 - accuracy: 0.9816\n",
            "Epoch 5/7\n",
            "196/196 [==============================] - 1996s 10s/step - loss: 0.0740 - accuracy: 0.9832\n",
            "Epoch 6/7\n",
            "196/196 [==============================] - 1990s 10s/step - loss: 0.0613 - accuracy: 0.9839\n",
            "Epoch 7/7\n",
            "196/196 [==============================] - 1991s 10s/step - loss: 0.0690 - accuracy: 0.9842\n"
          ],
          "name": "stdout"
        },
        {
          "output_type": "execute_result",
          "data": {
            "text/plain": [
              "<tensorflow.python.keras.callbacks.History at 0x7f5f1cb73e50>"
            ]
          },
          "metadata": {
            "tags": []
          },
          "execution_count": 8
        }
      ]
    },
    {
      "cell_type": "code",
      "metadata": {
        "colab": {
          "base_uri": "https://localhost:8080/"
        },
        "id": "kEZ8-SDn7Reg",
        "outputId": "69dfa04b-4603-492f-d015-f79ef482db43"
      },
      "source": [
        " test_datagen = ImageDataGenerator(preprocessing_function = preprocess_input)\n",
        "\n",
        "test_gen = test_datagen.flow_from_dataframe(df_test, directory = '../content/importeddata/test/', \n",
        "                                            batch_size = 64, \n",
        "                                            x_col = 'image_name', y_col = None, \n",
        "                                            class_mode = None, \n",
        "                                            shuffle = False,\n",
        "                                            img_size = (224, 224))"
      ],
      "execution_count": 9,
      "outputs": [
        {
          "output_type": "stream",
          "text": [
            "Found 12500 validated image filenames.\n"
          ],
          "name": "stdout"
        }
      ]
    },
    {
      "cell_type": "code",
      "metadata": {
        "id": "mzYTEoAX7RXo"
      },
      "source": [
        "prediction = model.predict(test_gen)\n",
        "prediction = prediction.clip(min = 0.005, max = 0.995)"
      ],
      "execution_count": 10,
      "outputs": []
    },
    {
      "cell_type": "code",
      "metadata": {
        "colab": {
          "base_uri": "https://localhost:8080/"
        },
        "id": "0Mwts0ny_GIM",
        "outputId": "de811d6d-ca60-4121-ec98-44e8ee414760"
      },
      "source": [
        "prediction"
      ],
      "execution_count": 12,
      "outputs": [
        {
          "output_type": "execute_result",
          "data": {
            "text/plain": [
              "array([[0.005],\n",
              "       [0.005],\n",
              "       [0.995],\n",
              "       ...,\n",
              "       [0.005],\n",
              "       [0.005],\n",
              "       [0.005]], dtype=float32)"
            ]
          },
          "metadata": {
            "tags": []
          },
          "execution_count": 12
        }
      ]
    },
    {
      "cell_type": "code",
      "metadata": {
        "id": "Pi3lfWgC7RPI"
      },
      "source": [
        "submission_df = pd.read_csv('../content/sample_data/sample_submission.csv')\n",
        "\n",
        "for i, fname in enumerate(test_path):\n",
        "    index = int(fname[fname.rfind('/')+1:fname.rfind('.')])\n",
        "    submission_df.at[index-1, 'label'] = prediction[i]\n",
        "submission_df.to_csv('Cats&DogsSubmission.csv', index=False)"
      ],
      "execution_count": 13,
      "outputs": []
    },
    {
      "cell_type": "code",
      "metadata": {
        "id": "_7rnND9r9aF3"
      },
      "source": [
        ""
      ],
      "execution_count": null,
      "outputs": []
    }
  ]
}